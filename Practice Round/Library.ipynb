{
 "cells": [
  {
   "cell_type": "code",
   "execution_count": 1,
   "metadata": {},
   "outputs": [
    {
     "name": "stdout",
     "output_type": "stream",
     "text": [
      "Enter File Name in Required FormateInput File\\a_example.in\n"
     ]
    }
   ],
   "source": [
    "file_name = input(\"Enter File Name in Required Formate\")\n",
    "dataset = open(file_name,'r')\n",
    "data = dataset.readlines()\n",
    "dataset.close()\n",
    "\n",
    "data_line = []\n",
    "for i in data:\n",
    "    data_line.append(str(i).split())\n",
    "\n",
    "maximum_slice = int(data_line[0][0])\n",
    "types_of_pizza = int(data_line[0][1])\n",
    "no_of_slices_in_pizza = data_line[1]\n",
    "\n",
    "#!pip install itertools \n",
    "from itertools import permutations \n",
    "slices_permutation = list(permutations(no_of_slices_in_pizza))\n",
    "\n",
    "def SliceToOrder(x):\n",
    "    SUM = 0\n",
    "    FinalList = []\n",
    "    for i in x:\n",
    "        SUM = SUM + int(i)\n",
    "        FinalList.append(int(i))\n",
    "        if SUM == maximum_slice:\n",
    "            return SUM, FinalList\n",
    "        elif SUM > maximum_slice:\n",
    "            FinalList.remove(int(i))\n",
    "            return (SUM - int(i)),FinalList\n",
    "\n",
    "MaxSliceToOrder = 0\n",
    "FinalSliceList = [] \n",
    "for i in slices_permutation:\n",
    "    tempSUM, tempSliceList = SliceToOrder(i)\n",
    "    if tempSUM >= MaxSliceToOrder:\n",
    "        MaxSliceToOrder = tempSUM\n",
    "        FinalSliceList = tempSliceList\n",
    "FinalSliceList.sort()\n",
    "\n",
    "PrintTypesOfPizza = len(FinalSliceList)\n",
    "PrintIndexOfPizza = \"\"\n",
    "for i in FinalSliceList:\n",
    "    PrintIndexOfPizza = PrintIndexOfPizza + str(no_of_slices_in_pizza.index(str(i))) + \" \"\n",
    "\n",
    "new_fileName = file_name + \" Answer.in\"\n",
    "WriteFile = open(new_fileName,'w')\n",
    "WriteFile.write(f\"{PrintTypesOfPizza}\\n{PrintIndexOfPizza}\")\n",
    "WriteFile.close()"
   ]
  }
 ],
 "metadata": {
  "kernelspec": {
   "display_name": "Python 3",
   "language": "python",
   "name": "python3"
  },
  "language_info": {
   "codemirror_mode": {
    "name": "ipython",
    "version": 3
   },
   "file_extension": ".py",
   "mimetype": "text/x-python",
   "name": "python",
   "nbconvert_exporter": "python",
   "pygments_lexer": "ipython3",
   "version": "3.8.1"
  }
 },
 "nbformat": 4,
 "nbformat_minor": 4
}
